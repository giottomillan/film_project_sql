{
 "cells": [
  {
   "cell_type": "code",
   "execution_count": null,
   "metadata": {},
   "outputs": [],
   "source": [
    "#función para visualizar datos nulos\n",
    "\n",
    "def check_nan(df: pd.DataFrame) -> None:\n",
    "    \n",
    "    \"\"\"Recibe un dataframe y enseña el % de valores nulos y lo grafica\"\"\"\n",
    "    \n",
    "    nan_cols = df.isna().mean() * 100  # porcentaje de nulo en cada columna\n",
    "    \n",
    "    display(f'N nan cols: {len(nan_cols[nan_cols>0])}')\n",
    "    display(nan_cols[nan_cols>0])\n",
    "    \n",
    "    \n",
    "    # grafico de nulos en el dataframe\n",
    "    plt.figure(figsize=(10, 6))     # inicia la figura y establece el tamaño\n",
    "    sns.heatmap(df.isna(),          # datos\n",
    "                yticklabels=False,  # quita las etiquetas del eje y\n",
    "                cmap='viridis',     # mapa de color\n",
    "                cbar=False,         # sin barra lateral\n",
    "               )\n",
    "\n",
    "\n",
    "    plt.show();"
   ]
  },
  {
   "cell_type": "code",
   "execution_count": null,
   "metadata": {},
   "outputs": [],
   "source": [
    "# cols baja var\n",
    "\n",
    "low_var=[]\n",
    "\n",
    "for c in df.select_dtypes(include=np.number):   # para cada columna numerica...\n",
    "    \n",
    "    minimo=df[c].min()\n",
    "    maximo=df[c].max()\n",
    "    \n",
    "    per_90=np.percentile(df[c], 90)\n",
    "    per_10=np.percentile(df[c], 10)\n",
    "    \n",
    "    if minimo==per_90 or maximo==per_10:\n",
    "        low_var.append(c)\n",
    "        \n",
    "low_var"
   ]
  },
  {
   "cell_type": "code",
   "execution_count": null,
   "metadata": {},
   "outputs": [],
   "source": [
    "colineales=[]\n",
    "\n",
    "for c in df._get_numeric_data():\n",
    "    \n",
    "    for i in range(len(df.corr())):\n",
    "        \n",
    "        if abs(df.corr()[c][i])>0.9 and abs(df.corr()[c][i])<1:\n",
    "            \n",
    "            colineales.append(c)\n",
    "            \n",
    "colineales"
   ]
  },
  {
   "cell_type": "code",
   "execution_count": null,
   "metadata": {},
   "outputs": [],
   "source": [
    "def limpiar_auto(x):\n",
    "    \n",
    "    x=x.lower()\n",
    "    \n",
    "    if 'auto' in x:\n",
    "        return 'automatic'\n",
    "    elif 'man' in x:\n",
    "        return 'manual'\n",
    "    else:\n",
    "        return 'unknown'"
   ]
  }
 ],
 "metadata": {
  "language_info": {
   "name": "python"
  },
  "orig_nbformat": 4
 },
 "nbformat": 4,
 "nbformat_minor": 2
}
